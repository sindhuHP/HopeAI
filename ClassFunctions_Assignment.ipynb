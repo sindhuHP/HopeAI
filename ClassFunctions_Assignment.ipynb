{
 "cells": [
  {
   "cell_type": "code",
   "execution_count": 2,
   "id": "b352ed26-a7b5-402b-8009-fb369d86a008",
   "metadata": {},
   "outputs": [],
   "source": [
    "class OddEven():\n",
    "    def OddEven():\n",
    "        num=int(input(\"Enter number\"))\n",
    "        if(num%2==0):\n",
    "            print(\"Number is even\")\n",
    "            message=\"Even\"\n",
    "        else:\n",
    "            print(\"Number is odd\")\n",
    "            message=\"Odd\"\n",
    "        return message"
   ]
  },
  {
   "cell_type": "code",
   "execution_count": 3,
   "id": "5256503b-8b33-4617-b678-34befe88c7d2",
   "metadata": {},
   "outputs": [
    {
     "name": "stdin",
     "output_type": "stream",
     "text": [
      "Enter number 3\n"
     ]
    },
    {
     "name": "stdout",
     "output_type": "stream",
     "text": [
      "Number is odd\n"
     ]
    },
    {
     "data": {
      "text/plain": [
       "'Odd'"
      ]
     },
     "execution_count": 3,
     "metadata": {},
     "output_type": "execute_result"
    }
   ],
   "source": [
    "OddEven.OddEven()"
   ]
  },
  {
   "cell_type": "code",
   "execution_count": 4,
   "id": "292ad14d-0d67-485b-999d-fd7a30a3fa45",
   "metadata": {},
   "outputs": [],
   "source": [
    "class SubFieldsInAI():\n",
    "    def SubFieldsInAI():\n",
    "        lists=[\"Machine Learning\",\"Neural Networks\",\"Vision\",\"Robotics\",\"Speech Processing\",\"Natural Language Processing\"]\n",
    "        print(\"Sub Fields in AI are\")\n",
    "        for subFields in lists:\n",
    "            print(subFields)\n",
    "            \n",
    "        \n"
   ]
  },
  {
   "cell_type": "code",
   "execution_count": 5,
   "id": "3f651713-e852-44ac-80de-61ff81c170dc",
   "metadata": {},
   "outputs": [
    {
     "name": "stdout",
     "output_type": "stream",
     "text": [
      "Sub Fields in AI are\n",
      "Machine Learning\n",
      "Neural Networks\n",
      "Vision\n",
      "Robotics\n",
      "Speech Processing\n",
      "Natural Language Processing\n"
     ]
    }
   ],
   "source": [
    "SubFieldsInAI.SubFieldsInAI()"
   ]
  },
  {
   "cell_type": "code",
   "execution_count": 11,
   "id": "57c863bf-f936-46f7-a85f-1ba489049890",
   "metadata": {},
   "outputs": [],
   "source": [
    "class EligibilityForMarriage():\n",
    "    def Eligible():\n",
    "        gender=input(\"Your Gender \")\n",
    "        age=int(input(\"Your Age\"))\n",
    "        if(gender==\"Male\" and age>=21):\n",
    "            print(\"Eligible for Marriage\")\n",
    "        elif(gender==\"Female\" and age>=18):\n",
    "            print(\"Eligible for Marriage\")\n",
    "        else:\n",
    "            print(\"Not Eligible\")"
   ]
  },
  {
   "cell_type": "code",
   "execution_count": 12,
   "id": "b9986188-3a8e-4e9e-a194-867f49c09ea8",
   "metadata": {},
   "outputs": [
    {
     "name": "stdin",
     "output_type": "stream",
     "text": [
      "Your Gender  Male\n",
      "Your Age 20\n"
     ]
    },
    {
     "name": "stdout",
     "output_type": "stream",
     "text": [
      "Not Eligible\n"
     ]
    }
   ],
   "source": [
    "EligibilityForMarriage.Eligible()"
   ]
  },
  {
   "cell_type": "code",
   "execution_count": 13,
   "id": "d4ad9bdc-ffdc-4385-ba2d-c5f1eb8e0007",
   "metadata": {},
   "outputs": [],
   "source": [
    "class triangle():\n",
    "    def triangle():\n",
    "        height1=int(input(\"Height1\"))\n",
    "        height2=int(input(\"Height2\"))\n",
    "        breadth=int(input(\"Breadth\"))\n",
    "        area=(height1*breadth/2)\n",
    "        print(\"Height1\",height1)\n",
    "        print(\"Breadth\",breadth)\n",
    "        print(\"Area of Triangle:\",area)\n",
    "        perimeter=(height1+height2+breadth)\n",
    "        print(\"Height1\",height1)\n",
    "        print(\"Height2\",height2)\n",
    "        print(\"Breadth\",breadth)\n",
    "        print(\"Perimeter of Triangle:\",perimeter)\n",
    "        \n",
    "        \n",
    "        "
   ]
  },
  {
   "cell_type": "code",
   "execution_count": 14,
   "id": "96f5179c-da33-4c04-af98-066ba8ea34fa",
   "metadata": {},
   "outputs": [
    {
     "name": "stdin",
     "output_type": "stream",
     "text": [
      "Height1 2\n",
      "Height2 4\n",
      "Breadth 4\n"
     ]
    },
    {
     "name": "stdout",
     "output_type": "stream",
     "text": [
      "Height1 2\n",
      "Breadth 4\n",
      "Area of Triangle: 4.0\n",
      "Height1 2\n",
      "Height2 4\n",
      "Breadth 4\n",
      "Perimeter of Triangle: 10\n"
     ]
    }
   ],
   "source": [
    "triangle.triangle()"
   ]
  },
  {
   "cell_type": "code",
   "execution_count": null,
   "id": "6661a8d7-9668-4f0b-a21e-2e686a75221d",
   "metadata": {},
   "outputs": [],
   "source": []
  }
 ],
 "metadata": {
  "kernelspec": {
   "display_name": "Python 3 (ipykernel)",
   "language": "python",
   "name": "python3"
  },
  "language_info": {
   "codemirror_mode": {
    "name": "ipython",
    "version": 3
   },
   "file_extension": ".py",
   "mimetype": "text/x-python",
   "name": "python",
   "nbconvert_exporter": "python",
   "pygments_lexer": "ipython3",
   "version": "3.11.7"
  }
 },
 "nbformat": 4,
 "nbformat_minor": 5
}
