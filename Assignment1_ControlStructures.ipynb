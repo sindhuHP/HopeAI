{
 "cells": [
  {
   "cell_type": "code",
   "execution_count": 1,
   "id": "96e3502e-4237-418c-a981-e29efb0287f2",
   "metadata": {},
   "outputs": [
    {
     "name": "stdout",
     "output_type": "stream",
     "text": [
      "Welcome to Assignment-1\n"
     ]
    }
   ],
   "source": [
    "print(\"Welcome to Assignment-1\")"
   ]
  },
  {
   "cell_type": "code",
   "execution_count": 2,
   "id": "9a4a3111-3a3d-43a1-9509-bb2e69e9430a",
   "metadata": {},
   "outputs": [
    {
     "name": "stdout",
     "output_type": "stream",
     "text": [
      "Num1= 10\n",
      "Num2= 30\n",
      "Add= 40\n"
     ]
    }
   ],
   "source": [
    "Num1=10\n",
    "Num2=30\n",
    "Add=Num1+Num2\n",
    "print(\"Num1=\",Num1)\n",
    "print(\"Num2=\",Num2)\n",
    "print(\"Add=\",Add)"
   ]
  },
  {
   "cell_type": "code",
   "execution_count": 5,
   "id": "9e0affb8-e07f-4fb6-8d09-9521505fe701",
   "metadata": {},
   "outputs": [
    {
     "name": "stdin",
     "output_type": "stream",
     "text": [
      "Enter BMI: 32\n"
     ]
    },
    {
     "name": "stdout",
     "output_type": "stream",
     "text": [
      "Obese\n"
     ]
    }
   ],
   "source": [
    "bmiIndex=int(input(\"Enter BMI:\"))\n",
    "if(bmiIndex<18.5):\n",
    "    print(\"Underweight\")\n",
    "elif(bmiIndex>=18.5 and bmiIndex<=24.9):\n",
    "    print(\"Normal\")\n",
    "elif(bmiIndex>=25 and bmiIndex<=29.9):\n",
    "    print(\"Overweight\")\n",
    "elif(bmiIndex>=30 and bmiIndex<=34.9):\n",
    "    print(\"Obese\")\n",
    "elif(bmiIndex>=35.5):\n",
    "    print(\"Over Obese\")"
   ]
  },
  {
   "cell_type": "code",
   "execution_count": null,
   "id": "8c425688-52f2-44b2-a4fc-42e8b6cf6677",
   "metadata": {},
   "outputs": [],
   "source": []
  }
 ],
 "metadata": {
  "kernelspec": {
   "display_name": "Python 3 (ipykernel)",
   "language": "python",
   "name": "python3"
  },
  "language_info": {
   "codemirror_mode": {
    "name": "ipython",
    "version": 3
   },
   "file_extension": ".py",
   "mimetype": "text/x-python",
   "name": "python",
   "nbconvert_exporter": "python",
   "pygments_lexer": "ipython3",
   "version": "3.11.7"
  }
 },
 "nbformat": 4,
 "nbformat_minor": 5
}
